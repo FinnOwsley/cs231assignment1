{
 "cells": [
  {
   "cell_type": "markdown",
   "metadata": {},
   "source": [
    "# Softmax exercise\n",
    "\n",
    "*Complete and hand in this completed worksheet (including its outputs and any supporting code outside of the worksheet) with your assignment submission. For more details see the [assignments page](http://vision.stanford.edu/teaching/cs231n/assignments.html) on the course website.*\n",
    "\n",
    "This exercise is analogous to the SVM exercise. You will:\n",
    "\n",
    "- implement a fully-vectorized **loss function** for the Softmax classifier\n",
    "- implement the fully-vectorized expression for its **analytic gradient**\n",
    "- **check your implementation** with numerical gradient\n",
    "- use a validation set to **tune the learning rate and regularization** strength\n",
    "- **optimize** the loss function with **SGD**\n",
    "- **visualize** the final learned weights\n"
   ]
  },
  {
   "cell_type": "code",
   "execution_count": 2,
   "metadata": {},
   "outputs": [],
   "source": [
    "import random\n",
    "import numpy as np\n",
    "from cs231n.data_utils import load_CIFAR10\n",
    "import matplotlib.pyplot as plt\n",
    "\n",
    "from __future__ import print_function\n",
    "\n",
    "%matplotlib inline\n",
    "plt.rcParams['figure.figsize'] = (10.0, 8.0) # set default size of plots\n",
    "plt.rcParams['image.interpolation'] = 'nearest'\n",
    "plt.rcParams['image.cmap'] = 'gray'\n",
    "\n",
    "# for auto-reloading extenrnal modules\n",
    "# see http://stackoverflow.com/questions/1907993/autoreload-of-modules-in-ipython\n",
    "%load_ext autoreload\n",
    "%autoreload 2"
   ]
  },
  {
   "cell_type": "code",
   "execution_count": 3,
   "metadata": {},
   "outputs": [
    {
     "name": "stdout",
     "output_type": "stream",
     "text": [
      "Train data shape:  (49000, 3073)\n",
      "Train labels shape:  (49000,)\n",
      "Validation data shape:  (1000, 3073)\n",
      "Validation labels shape:  (1000,)\n",
      "Test data shape:  (1000, 3073)\n",
      "Test labels shape:  (1000,)\n",
      "dev data shape:  (500, 3073)\n",
      "dev labels shape:  (500,)\n"
     ]
    }
   ],
   "source": [
    "def get_CIFAR10_data(num_training=49000, num_validation=1000, num_test=1000, num_dev=500):\n",
    "    \"\"\"\n",
    "    Load the CIFAR-10 dataset from disk and perform preprocessing to prepare\n",
    "    it for the linear classifier. These are the same steps as we used for the\n",
    "    SVM, but condensed to a single function.  \n",
    "    \"\"\"\n",
    "    # Load the raw CIFAR-10 data\n",
    "    cifar10_dir = 'cs231n/datasets/cifar-10-batches-py'\n",
    "    \n",
    "    X_train, y_train, X_test, y_test = load_CIFAR10(cifar10_dir)\n",
    "    \n",
    "    # subsample the data\n",
    "    mask = list(range(num_training, num_training + num_validation))\n",
    "    X_val = X_train[mask]\n",
    "    y_val = y_train[mask]\n",
    "    mask = list(range(num_training))\n",
    "    X_train = X_train[mask]\n",
    "    y_train = y_train[mask]\n",
    "    mask = list(range(num_test))\n",
    "    X_test = X_test[mask]\n",
    "    y_test = y_test[mask]\n",
    "    mask = np.random.choice(num_training, num_dev, replace=False)\n",
    "    X_dev = X_train[mask]\n",
    "    y_dev = y_train[mask]\n",
    "    \n",
    "    # Preprocessing: reshape the image data into rows\n",
    "    X_train = np.reshape(X_train, (X_train.shape[0], -1))\n",
    "    X_val = np.reshape(X_val, (X_val.shape[0], -1))\n",
    "    X_test = np.reshape(X_test, (X_test.shape[0], -1))\n",
    "    X_dev = np.reshape(X_dev, (X_dev.shape[0], -1))\n",
    "    \n",
    "    # Normalize the data: subtract the mean image\n",
    "    mean_image = np.mean(X_train, axis = 0)\n",
    "    X_train -= mean_image\n",
    "    X_val -= mean_image\n",
    "    X_test -= mean_image\n",
    "    X_dev -= mean_image\n",
    "    \n",
    "    # add bias dimension and transform into columns\n",
    "    X_train = np.hstack([X_train, np.ones((X_train.shape[0], 1))])\n",
    "    X_val = np.hstack([X_val, np.ones((X_val.shape[0], 1))])\n",
    "    X_test = np.hstack([X_test, np.ones((X_test.shape[0], 1))])\n",
    "    X_dev = np.hstack([X_dev, np.ones((X_dev.shape[0], 1))])\n",
    "    \n",
    "    return X_train, y_train, X_val, y_val, X_test, y_test, X_dev, y_dev\n",
    "\n",
    "\n",
    "# Cleaning up variables to prevent loading data multiple times (which may cause memory issue)\n",
    "try:\n",
    "   del X_train, y_train\n",
    "   del X_test, y_test\n",
    "   print('Clear previously loaded data.')\n",
    "except:\n",
    "   pass\n",
    "\n",
    "# Invoke the above function to get our data.\n",
    "X_train, y_train, X_val, y_val, X_test, y_test, X_dev, y_dev = get_CIFAR10_data()\n",
    "print('Train data shape: ', X_train.shape)\n",
    "print('Train labels shape: ', y_train.shape)\n",
    "print('Validation data shape: ', X_val.shape)\n",
    "print('Validation labels shape: ', y_val.shape)\n",
    "print('Test data shape: ', X_test.shape)\n",
    "print('Test labels shape: ', y_test.shape)\n",
    "print('dev data shape: ', X_dev.shape)\n",
    "print('dev labels shape: ', y_dev.shape)"
   ]
  },
  {
   "cell_type": "markdown",
   "metadata": {},
   "source": [
    "## Softmax Classifier\n",
    "\n",
    "Your code for this section will all be written inside **cs231n/classifiers/softmax.py**. \n"
   ]
  },
  {
   "cell_type": "code",
   "execution_count": 133,
   "metadata": {},
   "outputs": [
    {
     "name": "stdout",
     "output_type": "stream",
     "text": [
      "loss: 2.385213\n",
      "sanity check: 2.302585\n"
     ]
    }
   ],
   "source": [
    "# First implement the naive softmax loss function with nested loops.\n",
    "# Open the file cs231n/classifiers/softmax.py and implement the\n",
    "# softmax_loss_naive function.\n",
    "\n",
    "from cs231n.classifiers.softmax import softmax_loss_naive\n",
    "import time\n",
    "\n",
    "# Generate a random softmax weight matrix and use it to compute the loss.\n",
    "W = np.random.randn(3073, 10) * 0.0001\n",
    "loss, grad = softmax_loss_naive(W, X_dev, y_dev, 0.0)\n",
    "\n",
    "# As a rough sanity check, our loss should be something close to -log(0.1).\n",
    "print('loss: %f' % loss)\n",
    "print('sanity check: %f' % (-np.log(0.1)))"
   ]
  },
  {
   "cell_type": "markdown",
   "metadata": {},
   "source": [
    "## Inline Question 1:\n",
    "Why do we expect our loss to be close to -log(0.1)? Explain briefly.**\n",
    "\n",
    "**Your answer:** There are 10 classes, each with a weight calculated using the same random number generation, so each weight will on average be 1/10 of the total value, and then also 1/10 once they are exponentiated, so the loss, calculated by taking that value and dividing by the total, and then taking the negative log, will be about -log(1/10), when they are averaged."
   ]
  },
  {
   "cell_type": "code",
   "execution_count": 153,
   "metadata": {},
   "outputs": [
    {
     "name": "stdout",
     "output_type": "stream",
     "text": [
      "numerical: 4.117159 analytic: 4.117159, relative error: 1.021491e-08\n",
      "numerical: 0.009267 analytic: 0.009267, relative error: 3.041159e-06\n",
      "numerical: -3.006540 analytic: -3.006540, relative error: 2.881539e-09\n",
      "numerical: 1.690341 analytic: 1.690341, relative error: 4.382739e-08\n",
      "numerical: -5.072320 analytic: -5.072320, relative error: 1.153635e-09\n",
      "numerical: -0.519827 analytic: -0.519827, relative error: 1.726456e-08\n",
      "numerical: 3.181329 analytic: 3.181329, relative error: 1.074146e-08\n",
      "numerical: 1.333144 analytic: 1.333143, relative error: 7.424498e-08\n",
      "numerical: -0.678024 analytic: -0.678024, relative error: 5.029716e-09\n",
      "numerical: -1.690558 analytic: -1.690558, relative error: 7.036647e-09\n",
      "numerical: 0.656648 analytic: 0.656648, relative error: 1.404905e-07\n",
      "numerical: -0.703771 analytic: -0.703771, relative error: 5.540183e-08\n",
      "numerical: 1.008818 analytic: 1.008818, relative error: 1.599309e-08\n",
      "numerical: 2.083065 analytic: 2.083065, relative error: 2.103045e-08\n",
      "numerical: -0.558510 analytic: -0.558510, relative error: 5.253500e-08\n",
      "numerical: 3.223829 analytic: 3.223829, relative error: 6.389137e-09\n",
      "numerical: 0.950136 analytic: 0.950136, relative error: 1.667880e-08\n",
      "numerical: 0.011942 analytic: 0.011942, relative error: 2.172091e-06\n",
      "numerical: 0.067181 analytic: 0.067181, relative error: 3.282280e-07\n",
      "numerical: 0.514857 analytic: 0.514857, relative error: 7.080743e-08\n"
     ]
    }
   ],
   "source": [
    "# Complete the implementation of softmax_loss_naive and implement a (naive)\n",
    "# version of the gradient that uses nested loops.\n",
    "loss, grad = softmax_loss_naive(W, X_dev, y_dev, 0.0)\n",
    "\n",
    "# As we did for the SVM, use numeric gradient checking as a debugging tool.\n",
    "# The numeric gradient should be close to the analytic gradient.\n",
    "from cs231n.gradient_check import grad_check_sparse\n",
    "f = lambda w: softmax_loss_naive(w, X_dev, y_dev, 0.0)[0]\n",
    "grad_numerical = grad_check_sparse(f, W, grad, 10)\n",
    "\n",
    "# similar to SVM case, do another gradient check with regularization\n",
    "loss, grad = softmax_loss_naive(W, X_dev, y_dev, 5e1)\n",
    "f = lambda w: softmax_loss_naive(w, X_dev, y_dev, 5e1)[0]\n",
    "grad_numerical = grad_check_sparse(f, W, grad, 10)"
   ]
  },
  {
   "cell_type": "code",
   "execution_count": 189,
   "metadata": {},
   "outputs": [
    {
     "name": "stdout",
     "output_type": "stream",
     "text": [
      "naive loss: 2.385213e+00 computed in 0.096461s\n",
      "vectorized loss: 2.385213e+00 computed in 0.002081s\n",
      "Loss difference: 0.000000\n",
      "Gradient difference: 0.000000\n"
     ]
    }
   ],
   "source": [
    "# Now that we have a naive implementation of the softmax loss function and its gradient,\n",
    "# implement a vectorized version in softmax_loss_vectorized.\n",
    "# The two versions should compute the same results, but the vectorized version should be\n",
    "# much faster.\n",
    "tic = time.time()\n",
    "loss_naive, grad_naive = softmax_loss_naive(W, X_dev, y_dev, 0.000005)\n",
    "toc = time.time()\n",
    "print('naive loss: %e computed in %fs' % (loss_naive, toc - tic))\n",
    "\n",
    "from cs231n.classifiers.softmax import softmax_loss_vectorized\n",
    "tic = time.time()\n",
    "loss_vectorized, grad_vectorized = softmax_loss_vectorized(W, X_dev, y_dev, 0.000005)\n",
    "toc = time.time()\n",
    "print('vectorized loss: %e computed in %fs' % (loss_vectorized, toc - tic))\n",
    "\n",
    "# As we did for the SVM, we use the Frobenius norm to compare the two versions\n",
    "# of the gradient.\n",
    "grad_difference = np.linalg.norm(grad_naive - grad_vectorized, ord='fro')\n",
    "print('Loss difference: %f' % np.abs(loss_naive - loss_vectorized))\n",
    "print('Gradient difference: %f' % grad_difference)"
   ]
  },
  {
   "cell_type": "code",
   "execution_count": 199,
   "metadata": {},
   "outputs": [
    {
     "name": "stdout",
     "output_type": "stream",
     "text": [
      "iteration 0 / 1500: loss 389.041207\n",
      "iteration 100 / 1500: loss 235.505866\n",
      "iteration 200 / 1500: loss 142.955797\n",
      "iteration 300 / 1500: loss 87.318473\n",
      "iteration 400 / 1500: loss 53.564526\n",
      "iteration 500 / 1500: loss 33.126035\n",
      "iteration 600 / 1500: loss 20.842096\n",
      "iteration 700 / 1500: loss 13.455391\n",
      "iteration 800 / 1500: loss 8.953209\n",
      "iteration 900 / 1500: loss 6.163413\n",
      "iteration 1000 / 1500: loss 4.542891\n",
      "iteration 1100 / 1500: loss 3.540394\n",
      "iteration 1200 / 1500: loss 3.007309\n",
      "iteration 1300 / 1500: loss 2.598075\n",
      "iteration 1400 / 1500: loss 2.317357\n",
      "iteration 0 / 1500: loss 766.829582\n",
      "iteration 100 / 1500: loss 281.818507\n",
      "iteration 200 / 1500: loss 104.409082\n",
      "iteration 300 / 1500: loss 39.496090\n",
      "iteration 400 / 1500: loss 15.744493\n",
      "iteration 500 / 1500: loss 7.117065\n",
      "iteration 600 / 1500: loss 3.889710\n",
      "iteration 700 / 1500: loss 2.773384\n",
      "iteration 800 / 1500: loss 2.342977\n",
      "iteration 900 / 1500: loss 2.189212\n",
      "iteration 1000 / 1500: loss 2.069207\n",
      "iteration 1100 / 1500: loss 2.069822\n",
      "iteration 1200 / 1500: loss 2.121036\n",
      "iteration 1300 / 1500: loss 2.089431\n",
      "iteration 1400 / 1500: loss 2.095550\n",
      "iteration 0 / 1500: loss 394.132465\n",
      "iteration 100 / 1500: loss 33.302738\n",
      "iteration 200 / 1500: loss 4.567373\n",
      "iteration 300 / 1500: loss 2.206469\n",
      "iteration 400 / 1500: loss 2.016492\n",
      "iteration 500 / 1500: loss 1.943333\n",
      "iteration 600 / 1500: loss 1.993676\n",
      "iteration 700 / 1500: loss 1.994387\n",
      "iteration 800 / 1500: loss 2.077325\n",
      "iteration 900 / 1500: loss 2.022269\n",
      "iteration 1000 / 1500: loss 2.051381\n",
      "iteration 1100 / 1500: loss 2.043521\n",
      "iteration 1200 / 1500: loss 1.933287\n",
      "iteration 1300 / 1500: loss 2.073772\n",
      "iteration 1400 / 1500: loss 2.029915\n",
      "iteration 0 / 1500: loss 773.044716\n",
      "iteration 100 / 1500: loss 6.887775\n",
      "iteration 200 / 1500: loss 2.137901\n",
      "iteration 300 / 1500: loss 2.097317\n",
      "iteration 400 / 1500: loss 2.107275\n",
      "iteration 500 / 1500: loss 2.122162\n",
      "iteration 600 / 1500: loss 2.049633\n",
      "iteration 700 / 1500: loss 2.083748\n",
      "iteration 800 / 1500: loss 2.070984\n",
      "iteration 900 / 1500: loss 2.105182\n",
      "iteration 1000 / 1500: loss 2.077655\n",
      "iteration 1100 / 1500: loss 2.091562\n",
      "iteration 1200 / 1500: loss 2.109091\n",
      "iteration 1300 / 1500: loss 2.095316\n",
      "iteration 1400 / 1500: loss 2.050434\n",
      "lr 1.000000e-07 reg 2.500000e+04 train accuracy: 0.348918 val accuracy: 0.365000\n",
      "lr 1.000000e-07 reg 5.000000e+04 train accuracy: 0.330245 val accuracy: 0.342000\n",
      "lr 5.000000e-07 reg 2.500000e+04 train accuracy: 0.349367 val accuracy: 0.349000\n",
      "lr 5.000000e-07 reg 5.000000e+04 train accuracy: 0.324184 val accuracy: 0.341000\n",
      "best validation accuracy achieved during cross-validation: 0.365000\n"
     ]
    }
   ],
   "source": [
    "# Use the validation set to tune hyperparameters (regularization strength and\n",
    "# learning rate). You should experiment with different ranges for the learning\n",
    "# rates and regularization strengths; if you are careful you should be able to\n",
    "# get a classification accuracy of over 0.35 on the validation set.\n",
    "from cs231n.classifiers import Softmax\n",
    "results = {}\n",
    "best_val = -1\n",
    "best_softmax = None\n",
    "learning_rates = [1e-7, 5e-7]\n",
    "regularization_strengths = [2.5e4, 5e4]\n",
    "\n",
    "################################################################################\n",
    "# TODO:                                                                        #\n",
    "# Use the validation set to set the learning rate and regularization strength. #\n",
    "# This should be identical to the validation that you did for the SVM; save    #\n",
    "# the best trained softmax classifer in best_softmax.                          #\n",
    "################################################################################\n",
    "import copy\n",
    "num_LR_tests = 2\n",
    "num_RS_tests = 2\n",
    "iters_per_test = 1500\n",
    "deltaLR = (learning_rates[1]-learning_rates[0])/(num_LR_tests-1)\n",
    "deltaRS = (regularization_strengths[1]-regularization_strengths[0])/(num_RS_tests-1)\n",
    "LR = learning_rates[0]\n",
    "for i in range(num_LR_tests):\n",
    "    RS = regularization_strengths[0]\n",
    "    for j in range(num_RS_tests):\n",
    "        testModel = Softmax()\n",
    "        testModel.train(X_train, y_train, learning_rate=LR, reg=RS, num_iters=iters_per_test, verbose=True)\n",
    "        y_train_pred = testModel.predict(X_train)\n",
    "        y_val_pred = testModel.predict(X_val)\n",
    "        val_acc = np.mean(y_val == y_val_pred)\n",
    "        if val_acc > best_val:\n",
    "            best_val = val_acc\n",
    "            best_softmax = copy.deepcopy(testModel)\n",
    "        results[(LR, RS)] = (np.mean(y_train == y_train_pred), val_acc)\n",
    "        RS += deltaRS\n",
    "    LR += deltaLR\n",
    "################################################################################\n",
    "#                              END OF YOUR CODE                                #\n",
    "################################################################################\n",
    "    \n",
    "# Print out results.\n",
    "for lr, reg in sorted(results):\n",
    "    train_accuracy, val_accuracy = results[(lr, reg)]\n",
    "    print('lr %e reg %e train accuracy: %f val accuracy: %f' % (\n",
    "                lr, reg, train_accuracy, val_accuracy))\n",
    "    \n",
    "print('best validation accuracy achieved during cross-validation: %f' % best_val)"
   ]
  },
  {
   "cell_type": "code",
   "execution_count": 200,
   "metadata": {},
   "outputs": [
    {
     "name": "stdout",
     "output_type": "stream",
     "text": [
      "softmax on raw pixels final test set accuracy: 0.354000\n"
     ]
    }
   ],
   "source": [
    "# evaluate on test set\n",
    "# Evaluate the best softmax on test set\n",
    "y_test_pred = best_softmax.predict(X_test)\n",
    "test_accuracy = np.mean(y_test == y_test_pred)\n",
    "print('softmax on raw pixels final test set accuracy: %f' % (test_accuracy, ))"
   ]
  },
  {
   "cell_type": "markdown",
   "metadata": {},
   "source": [
    "**Inline Question** - *True or False*\n",
    "\n",
    "It's possible to add a new datapoint to a training set that would leave the SVM loss unchanged, but this is not the case with the Softmax classifier loss.\n",
    "\n",
    "*Your answer*: \n",
    "\n",
    "*Your explanation*: "
   ]
  },
  {
   "cell_type": "code",
   "execution_count": 202,
   "metadata": {},
   "outputs": [
    {
     "data": {
      "image/png": "[encoded data removed]",
      "text/plain": [
       "<Figure size 432x288 with 10 Axes>"
      ]
     },
     "metadata": {},
     "output_type": "display_data"
    }
   ],
   "source": [
    "# Visualize the learned weights for each class\n",
    "w = best_softmax.W[:-1,:] # strip out the bias\n",
    "w = w.reshape(32, 32, 3, 10)\n",
    "\n",
    "w_min, w_max = np.min(w), np.max(w)\n",
    "\n",
    "classes = ['plane', 'car', 'bird', 'cat', 'deer', 'dog', 'frog', 'horse', 'ship', 'truck']\n",
    "for i in range(10):\n",
    "    plt.subplot(2, 5, i + 1)\n",
    "    \n",
    "    # Rescale the weights to be between 0 and 255\n",
    "    wimg = 255.0 * (w[:, :, :, i].squeeze() - w_min) / (w_max - w_min)\n",
    "    plt.imshow(wimg.astype('uint8'))\n",
    "    plt.axis('off')\n",
    "    plt.title(classes[i])"
   ]
  }
 ],
 "metadata": {
  "kernelspec": {
   "display_name": "Python 3",
   "language": "python",
   "name": "python3"
  },
  "language_info": {
   "codemirror_mode": {
    "name": "ipython",
    "version": 3
   },
   "file_extension": ".py",
   "mimetype": "text/x-python",
   "name": "python",
   "nbconvert_exporter": "python",
   "pygments_lexer": "ipython3",
   "version": "3.6.5"
  }
 },
 "nbformat": 4,
 "nbformat_minor": 1
}
