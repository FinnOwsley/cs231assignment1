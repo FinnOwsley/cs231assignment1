{
 "cells": [
  {
   "cell_type": "markdown",
   "metadata": {},
   "source": [
    "# Softmax exercise\n",
    "\n",
    "*Complete and hand in this completed worksheet (including its outputs and any supporting code outside of the worksheet) with your assignment submission. For more details see the [assignments page](http://vision.stanford.edu/teaching/cs231n/assignments.html) on the course website.*\n",
    "\n",
    "This exercise is analogous to the SVM exercise. You will:\n",
    "\n",
    "- implement a fully-vectorized **loss function** for the Softmax classifier\n",
    "- implement the fully-vectorized expression for its **analytic gradient**\n",
    "- **check your implementation** with numerical gradient\n",
    "- use a validation set to **tune the learning rate and regularization** strength\n",
    "- **optimize** the loss function with **SGD**\n",
    "- **visualize** the final learned weights\n"
   ]
  },
  {
   "cell_type": "code",
   "execution_count": 245,
   "metadata": {},
   "outputs": [
    {
     "name": "stdout",
     "output_type": "stream",
     "text": [
      "The autoreload extension is already loaded. To reload it, use:\n",
      "  %reload_ext autoreload\n"
     ]
    }
   ],
   "source": [
    "import random\n",
    "import numpy as np\n",
    "from cs231n.data_utils import load_CIFAR10\n",
    "import matplotlib.pyplot as plt\n",
    "\n",
    "from __future__ import print_function\n",
    "\n",
    "%matplotlib inline\n",
    "plt.rcParams['figure.figsize'] = (10.0, 8.0) # set default size of plots\n",
    "plt.rcParams['image.interpolation'] = 'nearest'\n",
    "plt.rcParams['image.cmap'] = 'gray'\n",
    "\n",
    "# for auto-reloading extenrnal modules\n",
    "# see http://stackoverflow.com/questions/1907993/autoreload-of-modules-in-ipython\n",
    "%load_ext autoreload\n",
    "%autoreload 2"
   ]
  },
  {
   "cell_type": "code",
   "execution_count": 246,
   "metadata": {},
   "outputs": [
    {
     "name": "stdout",
     "output_type": "stream",
     "text": [
      "Clear previously loaded data.\n",
      "Train data shape:  (49000, 3073)\n",
      "Train labels shape:  (49000,)\n",
      "Validation data shape:  (1000, 3073)\n",
      "Validation labels shape:  (1000,)\n",
      "Test data shape:  (1000, 3073)\n",
      "Test labels shape:  (1000,)\n",
      "dev data shape:  (500, 3073)\n",
      "dev labels shape:  (500,)\n"
     ]
    }
   ],
   "source": [
    "def get_CIFAR10_data(num_training=49000, num_validation=1000, num_test=1000, num_dev=500):\n",
    "    \"\"\"\n",
    "    Load the CIFAR-10 dataset from disk and perform preprocessing to prepare\n",
    "    it for the linear classifier. These are the same steps as we used for the\n",
    "    SVM, but condensed to a single function.  \n",
    "    \"\"\"\n",
    "    # Load the raw CIFAR-10 data\n",
    "    cifar10_dir = 'cs231n/datasets/cifar-10-batches-py'\n",
    "    \n",
    "    X_train, y_train, X_test, y_test = load_CIFAR10(cifar10_dir)\n",
    "    \n",
    "    # subsample the data\n",
    "    mask = list(range(num_training, num_training + num_validation))\n",
    "    X_val = X_train[mask]\n",
    "    y_val = y_train[mask]\n",
    "    mask = list(range(num_training))\n",
    "    X_train = X_train[mask]\n",
    "    y_train = y_train[mask]\n",
    "    mask = list(range(num_test))\n",
    "    X_test = X_test[mask]\n",
    "    y_test = y_test[mask]\n",
    "    mask = np.random.choice(num_training, num_dev, replace=False)\n",
    "    X_dev = X_train[mask]\n",
    "    y_dev = y_train[mask]\n",
    "    \n",
    "    # Preprocessing: reshape the image data into rows\n",
    "    X_train = np.reshape(X_train, (X_train.shape[0], -1))\n",
    "    X_val = np.reshape(X_val, (X_val.shape[0], -1))\n",
    "    X_test = np.reshape(X_test, (X_test.shape[0], -1))\n",
    "    X_dev = np.reshape(X_dev, (X_dev.shape[0], -1))\n",
    "    \n",
    "    # Normalize the data: subtract the mean image\n",
    "    mean_image = np.mean(X_train, axis = 0)\n",
    "    X_train -= mean_image\n",
    "    X_val -= mean_image\n",
    "    X_test -= mean_image\n",
    "    X_dev -= mean_image\n",
    "    \n",
    "    # add bias dimension and transform into columns\n",
    "    X_train = np.hstack([X_train, np.ones((X_train.shape[0], 1))])\n",
    "    X_val = np.hstack([X_val, np.ones((X_val.shape[0], 1))])\n",
    "    X_test = np.hstack([X_test, np.ones((X_test.shape[0], 1))])\n",
    "    X_dev = np.hstack([X_dev, np.ones((X_dev.shape[0], 1))])\n",
    "    \n",
    "    return X_train, y_train, X_val, y_val, X_test, y_test, X_dev, y_dev\n",
    "\n",
    "\n",
    "# Cleaning up variables to prevent loading data multiple times (which may cause memory issue)\n",
    "try:\n",
    "   del X_train, y_train\n",
    "   del X_test, y_test\n",
    "   print('Clear previously loaded data.')\n",
    "except:\n",
    "   pass\n",
    "\n",
    "# Invoke the above function to get our data.\n",
    "X_train, y_train, X_val, y_val, X_test, y_test, X_dev, y_dev = get_CIFAR10_data()\n",
    "print('Train data shape: ', X_train.shape)\n",
    "print('Train labels shape: ', y_train.shape)\n",
    "print('Validation data shape: ', X_val.shape)\n",
    "print('Validation labels shape: ', y_val.shape)\n",
    "print('Test data shape: ', X_test.shape)\n",
    "print('Test labels shape: ', y_test.shape)\n",
    "print('dev data shape: ', X_dev.shape)\n",
    "print('dev labels shape: ', y_dev.shape)"
   ]
  },
  {
   "cell_type": "markdown",
   "metadata": {},
   "source": [
    "## Softmax Classifier\n",
    "\n",
    "Your code for this section will all be written inside **cs231n/classifiers/softmax.py**. \n"
   ]
  },
  {
   "cell_type": "code",
   "execution_count": 247,
   "metadata": {},
   "outputs": [
    {
     "name": "stdout",
     "output_type": "stream",
     "text": [
      "loss: 2.311001\n",
      "sanity check: 2.302585\n"
     ]
    }
   ],
   "source": [
    "# First implement the naive softmax loss function with nested loops.\n",
    "# Open the file cs231n/classifiers/softmax.py and implement the\n",
    "# softmax_loss_naive function.\n",
    "\n",
    "from cs231n.classifiers.softmax import softmax_loss_naive\n",
    "import time\n",
    "\n",
    "# Generate a random softmax weight matrix and use it to compute the loss.\n",
    "W = np.random.randn(3073, 10) * 0.0001\n",
    "loss, grad = softmax_loss_naive(W, X_dev, y_dev, 0.0)\n",
    "\n",
    "# As a rough sanity check, our loss should be something close to -log(0.1).\n",
    "print('loss: %f' % loss)\n",
    "print('sanity check: %f' % (-np.log(0.1)))"
   ]
  },
  {
   "cell_type": "markdown",
   "metadata": {},
   "source": [
    "## Inline Question 1:\n",
    "Why do we expect our loss to be close to -log(0.1)? Explain briefly.**\n",
    "\n",
    "**Your answer:** There are 10 classes, each with a weight calculated using the same random number generation, so each weight will on average be 1/10 of the total value, and then also 1/10 once they are exponentiated, so the loss, calculated by taking that value and dividing by the total, and then taking the negative log, will be about -log(1/10), when they are averaged."
   ]
  },
  {
   "cell_type": "code",
   "execution_count": 248,
   "metadata": {},
   "outputs": [
    {
     "name": "stdout",
     "output_type": "stream",
     "text": [
      "numerical: -2.463093 analytic: -2.463094, relative error: 3.349490e-08\n",
      "numerical: 1.526679 analytic: 1.526679, relative error: 5.439091e-09\n",
      "numerical: 0.187748 analytic: 0.187748, relative error: 2.908408e-07\n",
      "numerical: -1.790686 analytic: -1.790687, relative error: 3.419387e-08\n",
      "numerical: 2.324080 analytic: 2.324080, relative error: 3.241810e-09\n",
      "numerical: 1.879072 analytic: 1.879072, relative error: 2.716821e-08\n",
      "numerical: 1.437185 analytic: 1.437185, relative error: 3.374105e-09\n",
      "numerical: 0.428112 analytic: 0.428112, relative error: 1.184489e-07\n",
      "numerical: -0.876904 analytic: -0.876904, relative error: 8.627685e-11\n",
      "numerical: -2.844101 analytic: -2.844101, relative error: 9.771705e-09\n",
      "numerical: -5.276345 analytic: -5.276345, relative error: 1.610340e-08\n",
      "numerical: 1.765700 analytic: 1.765700, relative error: 2.573561e-09\n",
      "numerical: 0.164283 analytic: 0.164282, relative error: 9.477281e-08\n",
      "numerical: 3.343633 analytic: 3.343633, relative error: 2.381837e-08\n",
      "numerical: -1.820082 analytic: -1.820082, relative error: 2.643992e-08\n",
      "numerical: -2.298097 analytic: -2.298097, relative error: 8.926634e-09\n",
      "numerical: 0.930609 analytic: 0.930609, relative error: 4.223195e-09\n",
      "numerical: 3.013354 analytic: 3.013354, relative error: 2.515162e-08\n",
      "numerical: 2.242632 analytic: 2.242632, relative error: 1.640295e-08\n",
      "numerical: 2.629780 analytic: 2.629780, relative error: 2.234427e-08\n"
     ]
    }
   ],
   "source": [
    "# Complete the implementation of softmax_loss_naive and implement a (naive)\n",
    "# version of the gradient that uses nested loops.\n",
    "loss, grad = softmax_loss_naive(W, X_dev, y_dev, 0.0)\n",
    "\n",
    "# As we did for the SVM, use numeric gradient checking as a debugging tool.\n",
    "# The numeric gradient should be close to the analytic gradient.\n",
    "from cs231n.gradient_check import grad_check_sparse\n",
    "f = lambda w: softmax_loss_naive(w, X_dev, y_dev, 0.0)[0]\n",
    "grad_numerical = grad_check_sparse(f, W, grad, 10)\n",
    "\n",
    "# similar to SVM case, do another gradient check with regularization\n",
    "loss, grad = softmax_loss_naive(W, X_dev, y_dev, 5e1)\n",
    "f = lambda w: softmax_loss_naive(w, X_dev, y_dev, 5e1)[0]\n",
    "grad_numerical = grad_check_sparse(f, W, grad, 10)"
   ]
  },
  {
   "cell_type": "code",
   "execution_count": 249,
   "metadata": {},
   "outputs": [
    {
     "name": "stdout",
     "output_type": "stream",
     "text": [
      "naive loss: 2.311001e+00 computed in 0.099228s\n",
      "(10, 500) (500, 3073)\n",
      "vectorized loss: 2.311001e+00 computed in 0.002109s\n",
      "Loss difference: 0.000000\n",
      "Gradient difference: 0.000000\n"
     ]
    }
   ],
   "source": [
    "# Now that we have a naive implementation of the softmax loss function and its gradient,\n",
    "# implement a vectorized version in softmax_loss_vectorized.\n",
    "# The two versions should compute the same results, but the vectorized version should be\n",
    "# much faster.\n",
    "tic = time.time()\n",
    "loss_naive, grad_naive = softmax_loss_naive(W, X_dev, y_dev, 0.000005)\n",
    "toc = time.time()\n",
    "print('naive loss: %e computed in %fs' % (loss_naive, toc - tic))\n",
    "\n",
    "from cs231n.classifiers.softmax import softmax_loss_vectorized\n",
    "tic = time.time()\n",
    "loss_vectorized, grad_vectorized = softmax_loss_vectorized(W, X_dev, y_dev, 0.000005)\n",
    "toc = time.time()\n",
    "print('vectorized loss: %e computed in %fs' % (loss_vectorized, toc - tic))\n",
    "\n",
    "# As we did for the SVM, we use the Frobenius norm to compare the two versions\n",
    "# of the gradient.\n",
    "grad_difference = np.linalg.norm(grad_naive - grad_vectorized, ord='fro')\n",
    "print('Loss difference: %f' % np.abs(loss_naive - loss_vectorized))\n",
    "print('Gradient difference: %f' % grad_difference)"
   ]
  },
  {
   "cell_type": "code",
   "execution_count": 223,
   "metadata": {},
   "outputs": [
    {
     "name": "stdout",
     "output_type": "stream",
     "text": [
      "iteration 0 / 1500: loss 764.829042\n",
      "iteration 100 / 1500: loss 280.771640\n",
      "iteration 200 / 1500: loss 104.190260\n",
      "iteration 300 / 1500: loss 39.368584\n",
      "iteration 400 / 1500: loss 15.758198\n",
      "iteration 500 / 1500: loss 7.162892\n",
      "iteration 600 / 1500: loss 3.940657\n",
      "iteration 700 / 1500: loss 2.741888\n",
      "iteration 800 / 1500: loss 2.328073\n",
      "iteration 900 / 1500: loss 2.121154\n",
      "iteration 1000 / 1500: loss 2.154547\n",
      "iteration 1100 / 1500: loss 2.106150\n",
      "iteration 1200 / 1500: loss 2.068327\n",
      "iteration 1300 / 1500: loss 2.077099\n",
      "iteration 1400 / 1500: loss 2.072818\n",
      "iteration 0 / 1500: loss 1523.071513\n",
      "iteration 100 / 1500: loss 205.022017\n",
      "iteration 200 / 1500: loss 29.241511\n",
      "iteration 300 / 1500: loss 5.796307\n",
      "iteration 400 / 1500: loss 2.625325\n",
      "iteration 500 / 1500: loss 2.221755\n",
      "iteration 600 / 1500: loss 2.118465\n",
      "iteration 700 / 1500: loss 2.186131\n",
      "iteration 800 / 1500: loss 2.153311\n",
      "iteration 900 / 1500: loss 2.149901\n",
      "iteration 1000 / 1500: loss 2.140981\n",
      "iteration 1100 / 1500: loss 2.130945\n",
      "iteration 1200 / 1500: loss 2.154293\n",
      "iteration 1300 / 1500: loss 2.123614\n",
      "iteration 1400 / 1500: loss 2.075611\n",
      "iteration 0 / 1500: loss 773.637020\n",
      "iteration 100 / 1500: loss 6.877343\n",
      "iteration 200 / 1500: loss 2.139917\n",
      "iteration 300 / 1500: loss 2.083880\n",
      "iteration 400 / 1500: loss 2.122354\n",
      "iteration 500 / 1500: loss 2.089279\n",
      "iteration 600 / 1500: loss 2.063502\n",
      "iteration 700 / 1500: loss 2.111666\n",
      "iteration 800 / 1500: loss 2.099363\n",
      "iteration 900 / 1500: loss 2.112798\n",
      "iteration 1000 / 1500: loss 2.142604\n",
      "iteration 1100 / 1500: loss 2.079508\n",
      "iteration 1200 / 1500: loss 2.091389\n",
      "iteration 1300 / 1500: loss 2.107816\n",
      "iteration 1400 / 1500: loss 2.061915\n",
      "iteration 0 / 1500: loss 1549.564873\n",
      "iteration 100 / 1500: loss 2.243445\n",
      "iteration 200 / 1500: loss 2.134116\n",
      "iteration 300 / 1500: loss 2.123766\n",
      "iteration 400 / 1500: loss 2.196638\n",
      "iteration 500 / 1500: loss 2.098228\n",
      "iteration 600 / 1500: loss 2.153475\n",
      "iteration 700 / 1500: loss 2.163221\n",
      "iteration 800 / 1500: loss 2.180965\n",
      "iteration 900 / 1500: loss 2.094798\n",
      "iteration 1000 / 1500: loss 2.148373\n",
      "iteration 1100 / 1500: loss 2.158953\n",
      "iteration 1200 / 1500: loss 2.162588\n",
      "iteration 1300 / 1500: loss 2.167370\n",
      "iteration 1400 / 1500: loss 2.160536\n",
      "lr 1.000000e-07 reg 2.500000e+04 train accuracy: 0.330490 val accuracy: 0.340000\n",
      "lr 1.000000e-07 reg 5.000000e+04 train accuracy: 0.315367 val accuracy: 0.329000\n",
      "lr 5.000000e-07 reg 2.500000e+04 train accuracy: 0.329694 val accuracy: 0.343000\n",
      "lr 5.000000e-07 reg 5.000000e+04 train accuracy: 0.299776 val accuracy: 0.314000\n",
      "best validation accuracy achieved during cross-validation: 0.343000\n"
     ]
    }
   ],
   "source": [
    "# Use the validation set to tune hyperparameters (regularization strength and\n",
    "# learning rate). You should experiment with different ranges for the learning\n",
    "# rates and regularization strengths; if you are careful you should be able to\n",
    "# get a classification accuracy of over 0.35 on the validation set.\n",
    "from cs231n.classifiers import Softmax\n",
    "results = {}\n",
    "best_val = -1\n",
    "best_softmax = None\n",
    "learning_rates = [1e-7, 5e-7]\n",
    "regularization_strengths = [2.5e4, 5e4]\n",
    "\n",
    "################################################################################\n",
    "# TODO:                                                                        #\n",
    "# Use the validation set to set the learning rate and regularization strength. #\n",
    "# This should be identical to the validation that you did for the SVM; save    #\n",
    "# the best trained softmax classifer in best_softmax.                          #\n",
    "################################################################################\n",
    "import copy\n",
    "num_LR_tests = 2\n",
    "num_RS_tests = 2\n",
    "iters_per_test = 1500\n",
    "deltaLR = (learning_rates[1]-learning_rates[0])/(num_LR_tests-1)\n",
    "deltaRS = (regularization_strengths[1]-regularization_strengths[0])/(num_RS_tests-1)\n",
    "LR = learning_rates[0]\n",
    "for i in range(num_LR_tests):\n",
    "    RS = regularization_strengths[0]\n",
    "    for j in range(num_RS_tests):\n",
    "        testModel = Softmax()\n",
    "        testModel.train(X_train, y_train, learning_rate=LR, reg=RS, num_iters=iters_per_test, verbose=True)\n",
    "        y_train_pred = testModel.predict(X_train)\n",
    "        y_val_pred = testModel.predict(X_val)\n",
    "        val_acc = np.mean(y_val == y_val_pred)\n",
    "        if val_acc > best_val:\n",
    "            best_val = val_acc\n",
    "            best_softmax = copy.deepcopy(testModel)\n",
    "        results[(LR, RS)] = (np.mean(y_train == y_train_pred), val_acc)\n",
    "        RS += deltaRS\n",
    "    LR += deltaLR\n",
    "################################################################################\n",
    "#                              END OF YOUR CODE                                #\n",
    "################################################################################\n",
    "    \n",
    "# Print out results.\n",
    "for lr, reg in sorted(results):\n",
    "    train_accuracy, val_accuracy = results[(lr, reg)]\n",
    "    print('lr %e reg %e train accuracy: %f val accuracy: %f' % (\n",
    "                lr, reg, train_accuracy, val_accuracy))\n",
    "    \n",
    "print('best validation accuracy achieved during cross-validation: %f' % best_val)"
   ]
  },
  {
   "cell_type": "code",
   "execution_count": 224,
   "metadata": {},
   "outputs": [
    {
     "name": "stdout",
     "output_type": "stream",
     "text": [
      "softmax on raw pixels final test set accuracy: 0.337000\n"
     ]
    }
   ],
   "source": [
    "# evaluate on test set\n",
    "# Evaluate the best softmax on test set\n",
    "y_test_pred = best_softmax.predict(X_test)\n",
    "test_accuracy = np.mean(y_test == y_test_pred)\n",
    "print('softmax on raw pixels final test set accuracy: %f' % (test_accuracy, ))"
   ]
  },
  {
   "cell_type": "markdown",
   "metadata": {},
   "source": [
    "**Inline Question** - *True or False*\n",
    "\n",
    "It's possible to add a new datapoint to a training set that would leave the SVM loss unchanged, but this is not the case with the Softmax classifier loss.\n",
    "\n",
    "*Your answer*: \n",
    "\n",
    "*Your explanation*: "
   ]
  },
  {
   "cell_type": "code",
   "execution_count": 225,
   "metadata": {},
   "outputs": [
    {
     "data": {
      "image/png": "[encoded data removed]",
      "text/plain": [
       "<Figure size 720x576 with 10 Axes>"
      ]
     },
     "metadata": {},
     "output_type": "display_data"
    }
   ],
   "source": [
    "# Visualize the learned weights for each class\n",
    "w = best_softmax.W[:-1,:] # strip out the bias\n",
    "w = w.reshape(32, 32, 3, 10)\n",
    "\n",
    "w_min, w_max = np.min(w), np.max(w)\n",
    "\n",
    "classes = ['plane', 'car', 'bird', 'cat', 'deer', 'dog', 'frog', 'horse', 'ship', 'truck']\n",
    "for i in range(10):\n",
    "    plt.subplot(2, 5, i + 1)\n",
    "    \n",
    "    # Rescale the weights to be between 0 and 255\n",
    "    wimg = 255.0 * (w[:, :, :, i].squeeze() - w_min) / (w_max - w_min)\n",
    "    plt.imshow(wimg.astype('uint8'))\n",
    "    plt.axis('off')\n",
    "    plt.title(classes[i])"
   ]
  },
  {
   "cell_type": "code",
   "execution_count": null,
   "metadata": {},
   "outputs": [],
   "source": []
  }
 ],
 "metadata": {
  "kernelspec": {
   "display_name": "Python 3",
   "language": "python",
   "name": "python3"
  },
  "language_info": {
   "codemirror_mode": {
    "name": "ipython",
    "version": 3
   },
   "file_extension": ".py",
   "mimetype": "text/x-python",
   "name": "python",
   "nbconvert_exporter": "python",
   "pygments_lexer": "ipython3",
   "version": "3.6.5"
  }
 },
 "nbformat": 4,
 "nbformat_minor": 1
}
